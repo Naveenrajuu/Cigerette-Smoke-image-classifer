{
  "nbformat": 4,
  "nbformat_minor": 0,
  "metadata": {
    "colab": {
      "name": "MODELLING.ipynb",
      "provenance": [],
      "collapsed_sections": []
    },
    "kernelspec": {
      "name": "python3",
      "display_name": "Python 3"
    },
    "language_info": {
      "name": "python"
    }
  },
  "cells": [
    {
      "cell_type": "code",
      "metadata": {
        "id": "YkBytvaL88G-"
      },
      "source": [
        "import numpy as np\n",
        "import pandas as pd\n",
        "import tensorflow as tf\n",
        "import seaborn as sns\n",
        "import matplotlib.pyplot as plt\n",
        "import os\n",
        "\n",
        "from PIL import Image \n",
        "from tensorflow.keras.preprocessing.image import ImageDataGenerator"
      ],
      "execution_count": null,
      "outputs": []
    },
    {
      "cell_type": "code",
      "metadata": {
        "id": "irsR_KYGxPN3"
      },
      "source": [
        "from tensorflow.keras.applications.mobilenet_v2 import preprocess_input\n",
        "from tensorflow.keras.preprocessing.image import img_to_array\n",
        "from tensorflow.keras.preprocessing.image import load_img\n",
        "from sklearn.model_selection import train_test_split\n",
        "from tensorflow.keras.optimizers import Adam\n",
        "from tqdm import tqdm"
      ],
      "execution_count": null,
      "outputs": []
    },
    {
      "cell_type": "code",
      "metadata": {
        "id": "DRF-r4Epxqyp"
      },
      "source": [
        "from tensorflow.keras.applications import  VGG16,EfficientNetB7,MobileNetV2,Xception,ResNet152V2,NasNetLarge\n",
        "from tensorflow.keras.layers import Conv2D \n",
        "from tensorflow.keras.layers import Dense,Flatten,Dropout,AveragePooling2D,MaxPool2D,Input\n",
        "from tensorflow.keras.callbacks import ModelCheckpoint\n",
        "from tensorflow.keras import Model\n",
        "from tensorflow.keras.layers  import Concatenate\n",
        "from tensorflow.keras.optimizers import Adam\n",
        "from tqdm import tqdm\n",
        "%load_ext tensorboard\n",
        "import datetime"
      ],
      "execution_count": null,
      "outputs": []
    },
    {
      "cell_type": "code",
      "metadata": {
        "id": "jxjWgsdxnnDk"
      },
      "source": [
        "batch_size=32\n",
        "\n",
        "training_datagenarator= ImageDataGenerator(rescale=1./255,\n",
        "    rotation_range=20,\n",
        "    zoom_range=0.15,\n",
        "    width_shift_range=0.2,\n",
        "    height_shift_range=0.2,\n",
        "    shear_range=0.15,\n",
        "    horizontal_flip=True,\n",
        "    fill_mode=\"nearest\",validation_split=0.1)"
      ],
      "execution_count": null,
      "outputs": []
    },
    {
      "cell_type": "code",
      "metadata": {
        "colab": {
          "base_uri": "https://localhost:8080/"
        },
        "id": "PkhG0agln3ww",
        "outputId": "8dad16ed-5715-401a-c596-297f3993b842"
      },
      "source": [
        "train=training_datagenarator.flow_from_directory('/content/drive/MyDrive/train_images',\n",
        "                                                target_size=(224, 224),color_mode='rgb',\n",
        "                                       class_mode='binary', batch_size=batch_size,subset='training')\n",
        "\n",
        "validation=training_datagenarator.flow_from_directory('/content/drive/MyDrive/train_images',\n",
        "                                                target_size=(224, 224),color_mode='rgb',\n",
        "                                       class_mode='binary', batch_size=batch_size,subset='validation')"
      ],
      "execution_count": null,
      "outputs": [
        {
          "output_type": "stream",
          "name": "stdout",
          "text": [
            "Found 2924 images belonging to 2 classes.\n",
            "Found 324 images belonging to 2 classes.\n"
          ]
        }
      ]
    },
    {
      "cell_type": "markdown",
      "metadata": {
        "id": "r0Z14H2eIOyq"
      },
      "source": [
        "#simple cnn"
      ]
    },
    {
      "cell_type": "code",
      "metadata": {
        "id": "6lLNdP_vJNHz"
      },
      "source": [
        "cnn=tf.keras.models.Sequential()\n",
        "\n",
        "# adding first layer\n",
        "cnn.add(tf.keras.layers.Conv2D(filters=32,kernel_size=3,padding='same',activation='relu',input_shape=[224,224,3]))\n",
        "cnn.add(tf.keras.layers.MaxPool2D(pool_size=2))\n",
        "\n",
        "# adding second layer\n",
        "cnn.add(tf.keras.layers.Conv2D(filters=64,kernel_size=3,padding='same',activation='relu'))\n",
        "cnn.add(tf.keras.layers.MaxPool2D(pool_size=2))\n",
        "\n",
        "# adding third layer\n",
        "cnn.add(tf.keras.layers.Conv2D(filters=256,kernel_size=3,padding='same',activation='relu'))\n",
        "cnn.add(tf.keras.layers.MaxPool2D(pool_size=2))\n",
        "\n",
        "# Flattening\n",
        "cnn.add(tf.keras.layers.Flatten())\n",
        "\n",
        "# Fully connected layer\n",
        "cnn.add(tf.keras.layers.Dense(units=128,activation='relu'))\n",
        "\n",
        "# Output layers\n",
        "cnn.add(tf.keras.layers.Dense(units=1,activation='sigmoid'))"
      ],
      "execution_count": null,
      "outputs": []
    },
    {
      "cell_type": "code",
      "metadata": {
        "colab": {
          "base_uri": "https://localhost:8080/"
        },
        "id": "UPk7XAmboPfK",
        "outputId": "b9a9b302-62bd-4154-905f-90f057b78757"
      },
      "source": [
        "cnn.compile(optimizer='Adam',loss='binary_crossentropy',metrics=['accuracy'])\n",
        "\n",
        "filepath=\"/content/drive/MyDrive/models/savedmodel/simple_cnn_new.hdf5\"\n",
        "checkpoint = ModelCheckpoint(filepath=filepath, monitor='val_accuracy',  verbose=1, save_best_only=True, mode='auto')\n",
        "\n",
        "H = cnn.fit(\n",
        "    aug.flow(trainX, trainY, batch_size=BS),\n",
        "    steps_per_epoch=len(trainX) // BS,\n",
        "    validation_data=(testX, testY),\n",
        "    validation_steps=len(testX) // BS,\n",
        "    epochs=20,callbacks=[tensorboard_callback,checkpoint])"
      ],
      "execution_count": null,
      "outputs": [
        {
          "output_type": "stream",
          "name": "stderr",
          "text": [
            "/usr/local/lib/python3.7/dist-packages/keras/engine/training.py:1972: UserWarning: `Model.fit_generator` is deprecated and will be removed in a future version. Please use `Model.fit`, which supports generators.\n",
            "  warnings.warn('`Model.fit_generator` is deprecated and '\n"
          ]
        },
        {
          "output_type": "stream",
          "name": "stdout",
          "text": [
            "Epoch 1/25\n",
            " 1/91 [..............................] - ETA: 18:10 - loss: 0.6940 - accuracy: 0.4375"
          ]
        },
        {
          "output_type": "stream",
          "name": "stderr",
          "text": [
            "/usr/local/lib/python3.7/dist-packages/PIL/Image.py:960: UserWarning: Palette images with Transparency expressed in bytes should be converted to RGBA images\n",
            "  \"Palette images with Transparency expressed in bytes should be \"\n"
          ]
        },
        {
          "output_type": "stream",
          "name": "stdout",
          "text": [
            "91/91 [==============================] - 1022s 11s/step - loss: 0.7424 - accuracy: 0.6183 - val_loss: 0.5706 - val_accuracy: 0.7000\n",
            "\n",
            "Epoch 00001: val_accuracy improved from -inf to 0.70000, saving model to /content/drive/MyDrive/models/savedmodel/simple_cnn_new.hdf5\n",
            "Epoch 2/25\n",
            "91/91 [==============================] - 141s 2s/step - loss: 0.5529 - accuracy: 0.7216 - val_loss: 0.6939 - val_accuracy: 0.6625\n",
            "\n",
            "Epoch 00002: val_accuracy did not improve from 0.70000\n",
            "Epoch 3/25\n",
            "91/91 [==============================] - 137s 1s/step - loss: 0.5398 - accuracy: 0.7196 - val_loss: 0.6037 - val_accuracy: 0.6938\n",
            "\n",
            "Epoch 00003: val_accuracy did not improve from 0.70000\n",
            "Epoch 4/25\n",
            "91/91 [==============================] - 138s 2s/step - loss: 0.5345 - accuracy: 0.7331 - val_loss: 0.5936 - val_accuracy: 0.6938\n",
            "\n",
            "Epoch 00004: val_accuracy did not improve from 0.70000\n",
            "Epoch 5/25\n",
            "91/91 [==============================] - 141s 2s/step - loss: 0.5254 - accuracy: 0.7407 - val_loss: 0.5577 - val_accuracy: 0.7188\n",
            "\n",
            "Epoch 00005: val_accuracy improved from 0.70000 to 0.71875, saving model to /content/drive/MyDrive/models/savedmodel/simple_cnn_new.hdf5\n",
            "Epoch 6/25\n",
            "91/91 [==============================] - 138s 2s/step - loss: 0.5106 - accuracy: 0.7472 - val_loss: 0.6170 - val_accuracy: 0.7125\n",
            "\n",
            "Epoch 00006: val_accuracy did not improve from 0.71875\n",
            "Epoch 7/25\n",
            "91/91 [==============================] - 142s 2s/step - loss: 0.5227 - accuracy: 0.7524 - val_loss: 0.5845 - val_accuracy: 0.6938\n",
            "\n",
            "Epoch 00007: val_accuracy did not improve from 0.71875\n",
            "Epoch 8/25\n",
            "91/91 [==============================] - 142s 2s/step - loss: 0.5073 - accuracy: 0.7559 - val_loss: 0.5830 - val_accuracy: 0.6812\n",
            "\n",
            "Epoch 00008: val_accuracy did not improve from 0.71875\n",
            "Epoch 9/25\n",
            "91/91 [==============================] - 144s 2s/step - loss: 0.5035 - accuracy: 0.7597 - val_loss: 0.5504 - val_accuracy: 0.7250\n",
            "\n",
            "Epoch 00009: val_accuracy improved from 0.71875 to 0.72500, saving model to /content/drive/MyDrive/models/savedmodel/simple_cnn_new.hdf5\n",
            "Epoch 10/25\n",
            "91/91 [==============================] - 139s 2s/step - loss: 0.5011 - accuracy: 0.7541 - val_loss: 0.6293 - val_accuracy: 0.7063\n",
            "\n",
            "Epoch 00010: val_accuracy did not improve from 0.72500\n",
            "Epoch 11/25\n",
            "91/91 [==============================] - 140s 2s/step - loss: 0.5039 - accuracy: 0.7607 - val_loss: 0.7258 - val_accuracy: 0.6781\n",
            "\n",
            "Epoch 00011: val_accuracy did not improve from 0.72500\n",
            "Epoch 12/25\n",
            "91/91 [==============================] - 143s 2s/step - loss: 0.5131 - accuracy: 0.7500 - val_loss: 0.5473 - val_accuracy: 0.7406\n",
            "\n",
            "Epoch 00012: val_accuracy improved from 0.72500 to 0.74063, saving model to /content/drive/MyDrive/models/savedmodel/simple_cnn_new.hdf5\n",
            "Epoch 13/25\n",
            "91/91 [==============================] - 139s 2s/step - loss: 0.4929 - accuracy: 0.7656 - val_loss: 0.5991 - val_accuracy: 0.7344\n",
            "\n",
            "Epoch 00013: val_accuracy did not improve from 0.74063\n",
            "Epoch 14/25\n",
            "91/91 [==============================] - 137s 2s/step - loss: 0.4978 - accuracy: 0.7690 - val_loss: 0.7168 - val_accuracy: 0.6531\n",
            "\n",
            "Epoch 00014: val_accuracy did not improve from 0.74063\n",
            "Epoch 15/25\n",
            "91/91 [==============================] - 140s 2s/step - loss: 0.5009 - accuracy: 0.7614 - val_loss: 0.6044 - val_accuracy: 0.6812\n",
            "\n",
            "Epoch 00015: val_accuracy did not improve from 0.74063\n",
            "Epoch 16/25\n",
            "91/91 [==============================] - 137s 2s/step - loss: 0.4898 - accuracy: 0.7714 - val_loss: 0.5669 - val_accuracy: 0.7281\n",
            "\n",
            "Epoch 00016: val_accuracy did not improve from 0.74063\n",
            "Epoch 17/25\n",
            "91/91 [==============================] - 133s 1s/step - loss: 0.4879 - accuracy: 0.7683 - val_loss: 0.5798 - val_accuracy: 0.7219\n",
            "\n",
            "Epoch 00017: val_accuracy did not improve from 0.74063\n",
            "Epoch 18/25\n",
            "91/91 [==============================] - 136s 1s/step - loss: 0.4873 - accuracy: 0.7649 - val_loss: 0.5349 - val_accuracy: 0.7437\n",
            "\n",
            "Epoch 00018: val_accuracy improved from 0.74063 to 0.74375, saving model to /content/drive/MyDrive/models/savedmodel/simple_cnn_new.hdf5\n",
            "Epoch 19/25\n",
            "91/91 [==============================] - 141s 2s/step - loss: 0.4829 - accuracy: 0.7704 - val_loss: 0.6431 - val_accuracy: 0.7063\n",
            "\n",
            "Epoch 00019: val_accuracy did not improve from 0.74375\n",
            "Epoch 20/25\n",
            "91/91 [==============================] - 140s 2s/step - loss: 0.4884 - accuracy: 0.7697 - val_loss: 0.6191 - val_accuracy: 0.7125\n",
            "\n",
            "Epoch 00020: val_accuracy did not improve from 0.74375\n",
            "Epoch 21/25\n",
            "91/91 [==============================] - 139s 2s/step - loss: 0.4835 - accuracy: 0.7673 - val_loss: 0.6308 - val_accuracy: 0.6969\n",
            "\n",
            "Epoch 00021: val_accuracy did not improve from 0.74375\n",
            "Epoch 22/25\n",
            "91/91 [==============================] - 140s 2s/step - loss: 0.4762 - accuracy: 0.7766 - val_loss: 0.5711 - val_accuracy: 0.7219\n",
            "\n",
            "Epoch 00022: val_accuracy did not improve from 0.74375\n",
            "Epoch 23/25\n",
            "91/91 [==============================] - 142s 2s/step - loss: 0.4806 - accuracy: 0.7732 - val_loss: 0.6012 - val_accuracy: 0.7188\n",
            "\n",
            "Epoch 00023: val_accuracy did not improve from 0.74375\n",
            "Epoch 24/25\n",
            "91/91 [==============================] - 142s 2s/step - loss: 0.4719 - accuracy: 0.7749 - val_loss: 0.6737 - val_accuracy: 0.6938\n",
            "\n",
            "Epoch 00024: val_accuracy did not improve from 0.74375\n",
            "Epoch 25/25\n",
            "91/91 [==============================] - 141s 2s/step - loss: 0.4692 - accuracy: 0.7808 - val_loss: 0.6269 - val_accuracy: 0.7281\n",
            "\n",
            "Epoch 00025: val_accuracy did not improve from 0.74375\n"
          ]
        },
        {
          "output_type": "execute_result",
          "data": {
            "text/plain": [
              "<keras.callbacks.History at 0x7f966ff5d790>"
            ]
          },
          "metadata": {},
          "execution_count": 50
        }
      ]
    },
    {
      "cell_type": "markdown",
      "metadata": {
        "id": "63lZkLqweO6Q"
      },
      "source": [
        "#NASNET"
      ]
    },
    {
      "cell_type": "code",
      "metadata": {
        "id": "gqSBtkB_A_zc"
      },
      "source": [
        "baseModel = tf.keras.applications.NASNetLarge(weights=\"imagenet\", include_top=False,input_tensor=Input(shape=(224, 224, 3)))\n",
        "\n",
        "for layer in baseModel.layers:\n",
        "    layer.trainable = False"
      ],
      "execution_count": null,
      "outputs": []
    },
    {
      "cell_type": "code",
      "metadata": {
        "id": "UwyelJtGBIY9"
      },
      "source": [
        "\n",
        "headModel = baseModel.output\n",
        "\n",
        "headModel = Flatten(name=\"flatten\")(headModel)\n",
        "headModel = Dense(1024, activation=\"relu\")(headModel)\n",
        "headModel = Dropout(0.5)(headModel)\n",
        "headModel = Dense(1, activation=\"sigmoid\")(headModel)\n",
        "net = Model(inputs=baseModel.input, outputs=headModel)"
      ],
      "execution_count": null,
      "outputs": []
    },
    {
      "cell_type": "code",
      "metadata": {
        "colab": {
          "base_uri": "https://localhost:8080/"
        },
        "id": "_wZ4tOMDBROW",
        "outputId": "25c5feea-9ea2-482c-e57a-5d5cd3347205"
      },
      "source": [
        "net.compile(optimizer='Adam',loss='binary_crossentropy',metrics=['accuracy'])\n",
        "\n",
        "filepath=\"/content/drive/MyDrive/models/saved_models/net_new_current.hdf5\"\n",
        "checkpoint = ModelCheckpoint(filepath=filepath, monitor='val_accuracy',  verbose=1, save_best_only=True, mode='auto')\n",
        "\n",
        "net.fit_generator(train,validation_data=validation,epochs=20,\n",
        "                  steps_per_epoch=train.samples//batch_size,\n",
        "                  validation_steps=validation.samples//batch_size,callbacks=checkpoint)"
      ],
      "execution_count": null,
      "outputs": [
        {
          "output_type": "stream",
          "name": "stderr",
          "text": [
            "/usr/local/lib/python3.7/dist-packages/keras/engine/training.py:1972: UserWarning: `Model.fit_generator` is deprecated and will be removed in a future version. Please use `Model.fit`, which supports generators.\n",
            "  warnings.warn('`Model.fit_generator` is deprecated and '\n"
          ]
        },
        {
          "output_type": "stream",
          "name": "stdout",
          "text": [
            "Epoch 1/20\n",
            "54/91 [================>.............] - ETA: 1:02 - loss: 10.6400 - accuracy: 0.7396"
          ]
        },
        {
          "output_type": "stream",
          "name": "stderr",
          "text": [
            "/usr/local/lib/python3.7/dist-packages/PIL/Image.py:960: UserWarning: Palette images with Transparency expressed in bytes should be converted to RGBA images\n",
            "  \"Palette images with Transparency expressed in bytes should be \"\n"
          ]
        },
        {
          "output_type": "stream",
          "name": "stdout",
          "text": [
            "91/91 [==============================] - 191s 2s/step - loss: 7.5851 - accuracy: 0.7503 - val_loss: 2.9113 - val_accuracy: 0.6594\n",
            "\n",
            "Epoch 00001: val_accuracy improved from -inf to 0.65938, saving model to /content/drive/MyDrive/models/saved_models/net_new_current.hdf5\n"
          ]
        },
        {
          "output_type": "stream",
          "name": "stderr",
          "text": [
            "/usr/local/lib/python3.7/dist-packages/keras/utils/generic_utils.py:497: CustomMaskWarning: Custom mask layers require a config and must override get_config. When loading, the custom mask layer must be passed to the custom_objects argument.\n",
            "  category=CustomMaskWarning)\n"
          ]
        },
        {
          "output_type": "stream",
          "name": "stdout",
          "text": [
            "Epoch 2/20\n",
            "91/91 [==============================] - 222s 2s/step - loss: 0.7041 - accuracy: 0.7977 - val_loss: 0.8206 - val_accuracy: 0.7344\n",
            "\n",
            "Epoch 00002: val_accuracy improved from 0.65938 to 0.73438, saving model to /content/drive/MyDrive/models/saved_models/net_new_current.hdf5\n",
            "Epoch 3/20\n",
            "91/91 [==============================] - 196s 2s/step - loss: 0.5099 - accuracy: 0.8195 - val_loss: 0.9176 - val_accuracy: 0.7219\n",
            "\n",
            "Epoch 00003: val_accuracy did not improve from 0.73438\n",
            "Epoch 4/20\n",
            "91/91 [==============================] - 166s 2s/step - loss: 0.4805 - accuracy: 0.8326 - val_loss: 0.7840 - val_accuracy: 0.7031\n",
            "\n",
            "Epoch 00004: val_accuracy did not improve from 0.73438\n",
            "Epoch 5/20\n",
            "91/91 [==============================] - 171s 2s/step - loss: 0.4604 - accuracy: 0.8385 - val_loss: 0.8283 - val_accuracy: 0.7312\n",
            "\n",
            "Epoch 00005: val_accuracy did not improve from 0.73438\n",
            "Epoch 6/20\n",
            "91/91 [==============================] - 167s 2s/step - loss: 0.4114 - accuracy: 0.8465 - val_loss: 0.7486 - val_accuracy: 0.7344\n",
            "\n",
            "Epoch 00006: val_accuracy did not improve from 0.73438\n",
            "Epoch 7/20\n",
            "91/91 [==============================] - 167s 2s/step - loss: 0.4048 - accuracy: 0.8482 - val_loss: 0.6483 - val_accuracy: 0.7219\n",
            "\n",
            "Epoch 00007: val_accuracy did not improve from 0.73438\n",
            "Epoch 8/20\n",
            "91/91 [==============================] - 168s 2s/step - loss: 0.4106 - accuracy: 0.8627 - val_loss: 0.8210 - val_accuracy: 0.6844\n",
            "\n",
            "Epoch 00008: val_accuracy did not improve from 0.73438\n",
            "Epoch 9/20\n",
            "91/91 [==============================] - 166s 2s/step - loss: 0.3929 - accuracy: 0.8600 - val_loss: 0.8802 - val_accuracy: 0.6844\n",
            "\n",
            "Epoch 00009: val_accuracy did not improve from 0.73438\n",
            "Epoch 10/20\n",
            "91/91 [==============================] - 168s 2s/step - loss: 0.4144 - accuracy: 0.8572 - val_loss: 0.7658 - val_accuracy: 0.7188\n",
            "\n",
            "Epoch 00010: val_accuracy did not improve from 0.73438\n",
            "Epoch 11/20\n",
            "91/91 [==============================] - 169s 2s/step - loss: 0.3796 - accuracy: 0.8544 - val_loss: 0.7023 - val_accuracy: 0.7250\n",
            "\n",
            "Epoch 00011: val_accuracy did not improve from 0.73438\n",
            "Epoch 12/20\n",
            "91/91 [==============================] - 165s 2s/step - loss: 0.3602 - accuracy: 0.8707 - val_loss: 0.6999 - val_accuracy: 0.7406\n",
            "\n",
            "Epoch 00012: val_accuracy improved from 0.73438 to 0.74063, saving model to /content/drive/MyDrive/models/saved_models/net_new_current.hdf5\n",
            "Epoch 13/20\n",
            "91/91 [==============================] - 203s 2s/step - loss: 0.3623 - accuracy: 0.8717 - val_loss: 0.9107 - val_accuracy: 0.7125\n",
            "\n",
            "Epoch 00013: val_accuracy did not improve from 0.74063\n",
            "Epoch 14/20\n",
            "91/91 [==============================] - 169s 2s/step - loss: 0.3514 - accuracy: 0.8721 - val_loss: 0.9090 - val_accuracy: 0.6969\n",
            "\n",
            "Epoch 00014: val_accuracy did not improve from 0.74063\n",
            "Epoch 15/20\n",
            "91/91 [==============================] - 168s 2s/step - loss: 0.3571 - accuracy: 0.8676 - val_loss: 0.8639 - val_accuracy: 0.7094\n",
            "\n",
            "Epoch 00015: val_accuracy did not improve from 0.74063\n",
            "Epoch 16/20\n",
            "91/91 [==============================] - 167s 2s/step - loss: 0.3188 - accuracy: 0.8828 - val_loss: 0.6701 - val_accuracy: 0.7250\n",
            "\n",
            "Epoch 00016: val_accuracy did not improve from 0.74063\n",
            "Epoch 17/20\n",
            "91/91 [==============================] - 168s 2s/step - loss: 0.3289 - accuracy: 0.8779 - val_loss: 0.6206 - val_accuracy: 0.7188\n",
            "\n",
            "Epoch 00017: val_accuracy did not improve from 0.74063\n",
            "Epoch 18/20\n",
            "91/91 [==============================] - 168s 2s/step - loss: 0.3270 - accuracy: 0.8745 - val_loss: 0.7334 - val_accuracy: 0.7406\n",
            "\n",
            "Epoch 00018: val_accuracy did not improve from 0.74063\n",
            "Epoch 19/20\n",
            "91/91 [==============================] - 168s 2s/step - loss: 0.3292 - accuracy: 0.8779 - val_loss: 0.7946 - val_accuracy: 0.7312\n",
            "\n",
            "Epoch 00019: val_accuracy did not improve from 0.74063\n",
            "Epoch 20/20\n",
            "91/91 [==============================] - 169s 2s/step - loss: 0.3530 - accuracy: 0.8748 - val_loss: 0.6957 - val_accuracy: 0.7312\n",
            "\n",
            "Epoch 00020: val_accuracy did not improve from 0.74063\n"
          ]
        },
        {
          "output_type": "execute_result",
          "data": {
            "text/plain": [
              "<keras.callbacks.History at 0x7fe48f7ac890>"
            ]
          },
          "metadata": {},
          "execution_count": 16
        }
      ]
    },
    {
      "cell_type": "code",
      "metadata": {
        "id": "hiRKvEvLuLZa"
      },
      "source": [
        ""
      ],
      "execution_count": null,
      "outputs": []
    },
    {
      "cell_type": "markdown",
      "metadata": {
        "id": "vWsusQnml6vR"
      },
      "source": [
        "#MOBILENET"
      ]
    },
    {
      "cell_type": "code",
      "metadata": {
        "colab": {
          "base_uri": "https://localhost:8080/"
        },
        "id": "l_9svnuIl6_t",
        "outputId": "7e1749c7-d2bc-40dd-d3b6-b9953fa15411"
      },
      "source": [
        "baseModel = tf.keras.applications.MobileNetV2(weights=\"imagenet\", include_top=False,input_tensor=Input(shape=(224, 224, 3)))\n",
        "\n",
        "for layer in baseModel.layers:\n",
        "    layer.trainable = False"
      ],
      "execution_count": null,
      "outputs": [
        {
          "output_type": "stream",
          "name": "stdout",
          "text": [
            "WARNING:tensorflow:`input_shape` is undefined or non-square, or `rows` is not in [96, 128, 160, 192, 224]. Weights for input shape (224, 224) will be loaded as the default.\n",
            "Downloading data from https://storage.googleapis.com/tensorflow/keras-applications/mobilenet_v2/mobilenet_v2_weights_tf_dim_ordering_tf_kernels_1.0_224_no_top.h5\n",
            "9412608/9406464 [==============================] - 0s 0us/step\n",
            "9420800/9406464 [==============================] - 0s 0us/step\n"
          ]
        }
      ]
    },
    {
      "cell_type": "code",
      "metadata": {
        "id": "n8J4LVBQl6_v"
      },
      "source": [
        "\n",
        "headModel = baseModel.output\n",
        "\n",
        "headModel = Flatten(name=\"flatten\")(headModel)\n",
        "headModel = Dense(1024, activation=\"relu\")(headModel)\n",
        "#headModel = Dropout(0.5)(headModel)\n",
        "headModel = Dense(1, activation=\"sigmoid\")(headModel)\n",
        "net = Model(inputs=baseModel.input, outputs=headModel)"
      ],
      "execution_count": null,
      "outputs": []
    },
    {
      "cell_type": "code",
      "metadata": {
        "colab": {
          "base_uri": "https://localhost:8080/"
        },
        "id": "Hgh973Wzl6_w",
        "outputId": "63d30823-f9a1-4f1a-d506-02ef765b8e34"
      },
      "source": [
        "net.compile(optimizer='Adam',loss='binary_crossentropy',metrics=['accuracy'])\n",
        "\n",
        "filepath=\"/content/drive/MyDrive/models/saved_models/mobilenet_new_current.hdf5\"\n",
        "checkpoint = ModelCheckpoint(filepath=filepath, monitor='val_accuracy',  verbose=1, save_best_only=True, mode='auto')\n",
        "\n",
        "net.fit_generator(train,validation_data=validation,epochs=20,\n",
        "                  steps_per_epoch=train.samples//batch_size,\n",
        "                  validation_steps=validation.samples//batch_size,callbacks=checkpoint)"
      ],
      "execution_count": null,
      "outputs": [
        {
          "output_type": "stream",
          "name": "stderr",
          "text": [
            "/usr/local/lib/python3.7/dist-packages/keras/engine/training.py:1972: UserWarning: `Model.fit_generator` is deprecated and will be removed in a future version. Please use `Model.fit`, which supports generators.\n",
            "  warnings.warn('`Model.fit_generator` is deprecated and '\n"
          ]
        },
        {
          "output_type": "stream",
          "name": "stdout",
          "text": [
            "Epoch 1/20\n",
            "51/91 [===============>..............] - ETA: 56s - loss: 12.2738 - accuracy: 0.6979"
          ]
        },
        {
          "output_type": "stream",
          "name": "stderr",
          "text": [
            "/usr/local/lib/python3.7/dist-packages/PIL/Image.py:960: UserWarning: Palette images with Transparency expressed in bytes should be converted to RGBA images\n",
            "  \"Palette images with Transparency expressed in bytes should be \"\n"
          ]
        },
        {
          "output_type": "stream",
          "name": "stdout",
          "text": [
            "91/91 [==============================] - 144s 2s/step - loss: 7.8554 - accuracy: 0.7151 - val_loss: 1.1874 - val_accuracy: 0.6719\n",
            "\n",
            "Epoch 00001: val_accuracy improved from -inf to 0.67188, saving model to /content/drive/MyDrive/models/saved_models/mobilenet_new_current.hdf5\n"
          ]
        },
        {
          "output_type": "stream",
          "name": "stderr",
          "text": [
            "/usr/local/lib/python3.7/dist-packages/keras/utils/generic_utils.py:497: CustomMaskWarning: Custom mask layers require a config and must override get_config. When loading, the custom mask layer must be passed to the custom_objects argument.\n",
            "  category=CustomMaskWarning)\n"
          ]
        },
        {
          "output_type": "stream",
          "name": "stdout",
          "text": [
            "Epoch 2/20\n",
            "91/91 [==============================] - 137s 2s/step - loss: 0.4414 - accuracy: 0.8081 - val_loss: 0.6952 - val_accuracy: 0.7063\n",
            "\n",
            "Epoch 00002: val_accuracy improved from 0.67188 to 0.70625, saving model to /content/drive/MyDrive/models/saved_models/mobilenet_new_current.hdf5\n",
            "Epoch 3/20\n",
            "91/91 [==============================] - 133s 1s/step - loss: 0.4091 - accuracy: 0.8271 - val_loss: 0.6754 - val_accuracy: 0.7125\n",
            "\n",
            "Epoch 00003: val_accuracy improved from 0.70625 to 0.71250, saving model to /content/drive/MyDrive/models/saved_models/mobilenet_new_current.hdf5\n",
            "Epoch 4/20\n",
            "91/91 [==============================] - 136s 1s/step - loss: 0.3894 - accuracy: 0.8416 - val_loss: 0.6434 - val_accuracy: 0.6875\n",
            "\n",
            "Epoch 00004: val_accuracy did not improve from 0.71250\n",
            "Epoch 5/20\n",
            "91/91 [==============================] - 135s 1s/step - loss: 0.3932 - accuracy: 0.8309 - val_loss: 0.6070 - val_accuracy: 0.7281\n",
            "\n",
            "Epoch 00005: val_accuracy improved from 0.71250 to 0.72812, saving model to /content/drive/MyDrive/models/saved_models/mobilenet_new_current.hdf5\n",
            "Epoch 6/20\n",
            "91/91 [==============================] - 135s 1s/step - loss: 0.3789 - accuracy: 0.8437 - val_loss: 0.5963 - val_accuracy: 0.7437\n",
            "\n",
            "Epoch 00006: val_accuracy improved from 0.72812 to 0.74375, saving model to /content/drive/MyDrive/models/saved_models/mobilenet_new_current.hdf5\n",
            "Epoch 7/20\n",
            "91/91 [==============================] - 136s 1s/step - loss: 0.3652 - accuracy: 0.8506 - val_loss: 0.7554 - val_accuracy: 0.7000\n",
            "\n",
            "Epoch 00007: val_accuracy did not improve from 0.74375\n",
            "Epoch 8/20\n",
            "91/91 [==============================] - 134s 1s/step - loss: 0.3329 - accuracy: 0.8603 - val_loss: 0.5321 - val_accuracy: 0.7750\n",
            "\n",
            "Epoch 00008: val_accuracy improved from 0.74375 to 0.77500, saving model to /content/drive/MyDrive/models/saved_models/mobilenet_new_current.hdf5\n",
            "Epoch 9/20\n",
            "91/91 [==============================] - 138s 2s/step - loss: 0.3422 - accuracy: 0.8562 - val_loss: 0.5513 - val_accuracy: 0.7781\n",
            "\n",
            "Epoch 00009: val_accuracy improved from 0.77500 to 0.77812, saving model to /content/drive/MyDrive/models/saved_models/mobilenet_new_current.hdf5\n",
            "Epoch 10/20\n",
            "91/91 [==============================] - 134s 1s/step - loss: 0.3619 - accuracy: 0.8555 - val_loss: 0.6198 - val_accuracy: 0.7250\n",
            "\n",
            "Epoch 00010: val_accuracy did not improve from 0.77812\n",
            "Epoch 11/20\n",
            "91/91 [==============================] - 133s 1s/step - loss: 0.3545 - accuracy: 0.8555 - val_loss: 0.8175 - val_accuracy: 0.7031\n",
            "\n",
            "Epoch 00011: val_accuracy did not improve from 0.77812\n",
            "Epoch 12/20\n",
            "91/91 [==============================] - 133s 1s/step - loss: 0.3560 - accuracy: 0.8503 - val_loss: 0.5858 - val_accuracy: 0.7437\n",
            "\n",
            "Epoch 00012: val_accuracy did not improve from 0.77812\n",
            "Epoch 13/20\n",
            "91/91 [==============================] - 134s 1s/step - loss: 0.3075 - accuracy: 0.8703 - val_loss: 0.6575 - val_accuracy: 0.7188\n",
            "\n",
            "Epoch 00013: val_accuracy did not improve from 0.77812\n",
            "Epoch 14/20\n",
            "91/91 [==============================] - 134s 1s/step - loss: 0.3134 - accuracy: 0.8724 - val_loss: 0.6854 - val_accuracy: 0.7250\n",
            "\n",
            "Epoch 00014: val_accuracy did not improve from 0.77812\n",
            "Epoch 15/20\n",
            "91/91 [==============================] - 133s 1s/step - loss: 0.3112 - accuracy: 0.8714 - val_loss: 0.6092 - val_accuracy: 0.7125\n",
            "\n",
            "Epoch 00015: val_accuracy did not improve from 0.77812\n",
            "Epoch 16/20\n",
            "91/91 [==============================] - 133s 1s/step - loss: 0.3159 - accuracy: 0.8696 - val_loss: 0.7508 - val_accuracy: 0.7250\n",
            "\n",
            "Epoch 00016: val_accuracy did not improve from 0.77812\n",
            "Epoch 17/20\n",
            "91/91 [==============================] - 133s 1s/step - loss: 0.3168 - accuracy: 0.8696 - val_loss: 0.6453 - val_accuracy: 0.7375\n",
            "\n",
            "Epoch 00017: val_accuracy did not improve from 0.77812\n",
            "Epoch 18/20\n",
            "91/91 [==============================] - 134s 1s/step - loss: 0.3014 - accuracy: 0.8731 - val_loss: 0.6494 - val_accuracy: 0.7625\n",
            "\n",
            "Epoch 00018: val_accuracy did not improve from 0.77812\n",
            "Epoch 19/20\n",
            "91/91 [==============================] - 135s 1s/step - loss: 0.2864 - accuracy: 0.8838 - val_loss: 0.5770 - val_accuracy: 0.7531\n",
            "\n",
            "Epoch 00019: val_accuracy did not improve from 0.77812\n",
            "Epoch 20/20\n",
            "91/91 [==============================] - 135s 1s/step - loss: 0.2825 - accuracy: 0.8800 - val_loss: 0.7523 - val_accuracy: 0.7375\n",
            "\n",
            "Epoch 00020: val_accuracy did not improve from 0.77812\n"
          ]
        },
        {
          "output_type": "execute_result",
          "data": {
            "text/plain": [
              "<keras.callbacks.History at 0x7fe42c7ec2d0>"
            ]
          },
          "metadata": {},
          "execution_count": 19
        }
      ]
    },
    {
      "cell_type": "markdown",
      "metadata": {
        "id": "W0aV-Nf9c_Rl"
      },
      "source": [
        "#efficent"
      ]
    },
    {
      "cell_type": "code",
      "metadata": {
        "id": "navaOB8ddAQE"
      },
      "source": [
        ""
      ],
      "execution_count": null,
      "outputs": []
    },
    {
      "cell_type": "code",
      "metadata": {
        "colab": {
          "base_uri": "https://localhost:8080/"
        },
        "id": "qhjlWc0NdAhJ",
        "outputId": "4efa9c23-c936-4b77-f079-a0766b0fb2a5"
      },
      "source": [
        "baseModel = tf.keras.applications.EfficientNetB0(weights=\"imagenet\", include_top=False,input_tensor=Input(shape=(224, 224, 3)))\n",
        "\n",
        "for layer in baseModel.layers:\n",
        "    layer.trainable = False"
      ],
      "execution_count": null,
      "outputs": [
        {
          "output_type": "stream",
          "name": "stdout",
          "text": [
            "Downloading data from https://storage.googleapis.com/keras-applications/efficientnetb0_notop.h5\n",
            "16711680/16705208 [==============================] - 0s 0us/step\n",
            "16719872/16705208 [==============================] - 0s 0us/step\n"
          ]
        }
      ]
    },
    {
      "cell_type": "code",
      "metadata": {
        "id": "vjcVTIRRdAhM"
      },
      "source": [
        "\n",
        "headModel = baseModel.output\n",
        "headModel       = Conv2D(256,(3,3),padding='same',activation='relu')(headModel )\n",
        "headModel       = MaxPool2D(pool_size=(4,4),padding='same')(headModel )\n",
        "headModel = Flatten(name=\"flatten\")(headModel)\n",
        "headModel = Dense(128, activation=\"relu\")(headModel)\n",
        "headModel = Dropout(0.5)(headModel)\n",
        "headModel = Dense(1, activation=\"sigmoid\")(headModel)\n",
        "net1 = Model(inputs=baseModel.input, outputs=headModel)"
      ],
      "execution_count": null,
      "outputs": []
    },
    {
      "cell_type": "code",
      "metadata": {
        "colab": {
          "base_uri": "https://localhost:8080/"
        },
        "id": "m5d8MFZkdAhN",
        "outputId": "1e79c37d-d404-42e8-b6df-877b3bc274bd"
      },
      "source": [
        "net1.compile(optimizer='Adam',loss='binary_crossentropy',metrics=['accuracy'])\n",
        "\n",
        "filepath=\"/content/drive/MyDrive/models/saved_models/effiecent.hdf5\"\n",
        "checkpoint = ModelCheckpoint(filepath=filepath, monitor='val_accuracy',  verbose=1, save_best_only=True, mode='auto')\n",
        "\n",
        "net1.fit_generator(train,validation_data=validation,epochs=20,\n",
        "                  steps_per_epoch=train.samples//batch_size,\n",
        "                  validation_steps=validation.samples//batch_size,callbacks=checkpoint)"
      ],
      "execution_count": null,
      "outputs": [
        {
          "output_type": "stream",
          "name": "stderr",
          "text": [
            "/usr/local/lib/python3.7/dist-packages/keras/engine/training.py:1972: UserWarning: `Model.fit_generator` is deprecated and will be removed in a future version. Please use `Model.fit`, which supports generators.\n",
            "  warnings.warn('`Model.fit_generator` is deprecated and '\n"
          ]
        },
        {
          "output_type": "stream",
          "name": "stdout",
          "text": [
            "Epoch 1/20\n",
            "41/91 [============>.................] - ETA: 13:47 - loss: 1.5409 - accuracy: 0.5610"
          ]
        },
        {
          "output_type": "stream",
          "name": "stderr",
          "text": [
            "/usr/local/lib/python3.7/dist-packages/PIL/Image.py:960: UserWarning: Palette images with Transparency expressed in bytes should be converted to RGBA images\n",
            "  \"Palette images with Transparency expressed in bytes should be \"\n"
          ]
        },
        {
          "output_type": "stream",
          "name": "stdout",
          "text": [
            "91/91 [==============================] - 1614s 18s/step - loss: 1.0718 - accuracy: 0.5813 - val_loss: 0.6764 - val_accuracy: 0.6062\n",
            "\n",
            "Epoch 00001: val_accuracy improved from -inf to 0.60625, saving model to /content/drive/MyDrive/models/saved_models/effiecent.hdf5\n"
          ]
        },
        {
          "output_type": "stream",
          "name": "stderr",
          "text": [
            "/usr/local/lib/python3.7/dist-packages/keras/utils/generic_utils.py:497: CustomMaskWarning: Custom mask layers require a config and must override get_config. When loading, the custom mask layer must be passed to the custom_objects argument.\n",
            "  category=CustomMaskWarning)\n"
          ]
        },
        {
          "output_type": "stream",
          "name": "stdout",
          "text": [
            "Epoch 2/20\n",
            "91/91 [==============================] - 140s 2s/step - loss: 0.6902 - accuracy: 0.6093 - val_loss: 0.6870 - val_accuracy: 0.6062\n",
            "\n",
            "Epoch 00002: val_accuracy did not improve from 0.60625\n",
            "Epoch 3/20\n",
            "91/91 [==============================] - 139s 2s/step - loss: 0.6845 - accuracy: 0.6079 - val_loss: 0.6816 - val_accuracy: 0.6125\n",
            "\n",
            "Epoch 00003: val_accuracy improved from 0.60625 to 0.61250, saving model to /content/drive/MyDrive/models/saved_models/effiecent.hdf5\n",
            "Epoch 4/20\n",
            "91/91 [==============================] - 139s 2s/step - loss: 0.6804 - accuracy: 0.6072 - val_loss: 0.6789 - val_accuracy: 0.6062\n",
            "\n",
            "Epoch 00004: val_accuracy did not improve from 0.61250\n",
            "Epoch 5/20\n",
            "91/91 [==============================] - 139s 2s/step - loss: 0.6769 - accuracy: 0.6089 - val_loss: 0.6761 - val_accuracy: 0.6062\n",
            "\n",
            "Epoch 00005: val_accuracy did not improve from 0.61250\n",
            "Epoch 6/20\n",
            "91/91 [==============================] - 139s 2s/step - loss: 0.6748 - accuracy: 0.6082 - val_loss: 0.6735 - val_accuracy: 0.6094\n",
            "\n",
            "Epoch 00006: val_accuracy did not improve from 0.61250\n",
            "Epoch 7/20\n",
            "91/91 [==============================] - 139s 2s/step - loss: 0.6729 - accuracy: 0.6093 - val_loss: 0.6721 - val_accuracy: 0.6094\n",
            "\n",
            "Epoch 00007: val_accuracy did not improve from 0.61250\n",
            "Epoch 8/20\n",
            "91/91 [==============================] - 141s 2s/step - loss: 0.6719 - accuracy: 0.6086 - val_loss: 0.6712 - val_accuracy: 0.6094\n",
            "\n",
            "Epoch 00008: val_accuracy did not improve from 0.61250\n",
            "Epoch 9/20\n",
            "91/91 [==============================] - 141s 2s/step - loss: 0.6709 - accuracy: 0.6089 - val_loss: 0.6705 - val_accuracy: 0.6094\n",
            "\n",
            "Epoch 00009: val_accuracy did not improve from 0.61250\n",
            "Epoch 10/20\n",
            "91/91 [==============================] - 140s 2s/step - loss: 0.6706 - accuracy: 0.6082 - val_loss: 0.6689 - val_accuracy: 0.6125\n",
            "\n",
            "Epoch 00010: val_accuracy did not improve from 0.61250\n",
            "Epoch 11/20\n",
            "91/91 [==============================] - 140s 2s/step - loss: 0.6704 - accuracy: 0.6079 - val_loss: 0.6708 - val_accuracy: 0.6062\n",
            "\n",
            "Epoch 00011: val_accuracy did not improve from 0.61250\n",
            "Epoch 12/20\n",
            "91/91 [==============================] - 140s 2s/step - loss: 0.6702 - accuracy: 0.6079 - val_loss: 0.6719 - val_accuracy: 0.6031\n",
            "\n",
            "Epoch 00012: val_accuracy did not improve from 0.61250\n",
            "Epoch 13/20\n",
            "91/91 [==============================] - 140s 2s/step - loss: 0.6696 - accuracy: 0.6089 - val_loss: 0.6718 - val_accuracy: 0.6031\n",
            "\n",
            "Epoch 00013: val_accuracy did not improve from 0.61250\n",
            "Epoch 14/20\n",
            "91/91 [==============================] - 139s 2s/step - loss: 0.6699 - accuracy: 0.6079 - val_loss: 0.6692 - val_accuracy: 0.6094\n",
            "\n",
            "Epoch 00014: val_accuracy did not improve from 0.61250\n",
            "Epoch 15/20\n",
            "91/91 [==============================] - 138s 2s/step - loss: 0.6698 - accuracy: 0.6079 - val_loss: 0.6692 - val_accuracy: 0.6094\n",
            "\n",
            "Epoch 00015: val_accuracy did not improve from 0.61250\n",
            "Epoch 16/20\n",
            "91/91 [==============================] - 140s 2s/step - loss: 0.6698 - accuracy: 0.6079 - val_loss: 0.6717 - val_accuracy: 0.6031\n",
            "\n",
            "Epoch 00016: val_accuracy did not improve from 0.61250\n",
            "Epoch 17/20\n",
            "91/91 [==============================] - 140s 2s/step - loss: 0.8375 - accuracy: 0.6082 - val_loss: 0.6677 - val_accuracy: 0.6125\n",
            "\n",
            "Epoch 00017: val_accuracy did not improve from 0.61250\n",
            "Epoch 18/20\n",
            "91/91 [==============================] - 141s 2s/step - loss: 0.7595 - accuracy: 0.6058 - val_loss: 0.6691 - val_accuracy: 0.6094\n",
            "\n",
            "Epoch 00018: val_accuracy did not improve from 0.61250\n",
            "Epoch 19/20\n",
            "91/91 [==============================] - 141s 2s/step - loss: 0.6697 - accuracy: 0.6079 - val_loss: 0.6704 - val_accuracy: 0.6062\n",
            "\n",
            "Epoch 00019: val_accuracy did not improve from 0.61250\n",
            "Epoch 20/20\n",
            "91/91 [==============================] - 141s 2s/step - loss: 0.6694 - accuracy: 0.6086 - val_loss: 0.6691 - val_accuracy: 0.6094\n",
            "\n",
            "Epoch 00020: val_accuracy did not improve from 0.61250\n"
          ]
        },
        {
          "output_type": "execute_result",
          "data": {
            "text/plain": [
              "<keras.callbacks.History at 0x7f29e01c3bd0>"
            ]
          },
          "metadata": {},
          "execution_count": 12
        }
      ]
    },
    {
      "cell_type": "markdown",
      "metadata": {
        "id": "UB4n8lTKup_H"
      },
      "source": [
        "#efficent"
      ]
    },
    {
      "cell_type": "code",
      "metadata": {
        "id": "5EDaVz3Zup_J"
      },
      "source": [
        ""
      ],
      "execution_count": null,
      "outputs": []
    },
    {
      "cell_type": "code",
      "metadata": {
        "colab": {
          "base_uri": "https://localhost:8080/"
        },
        "id": "9-qRz3kpup_J",
        "outputId": "4efa9c23-c936-4b77-f079-a0766b0fb2a5"
      },
      "source": [
        "baseModel = tf.keras.applications.EfficientNetB0(weights=\"imagenet\", include_top=False,input_tensor=Input(shape=(224, 224, 3)))\n",
        "\n",
        "for layer in baseModel.layers:\n",
        "    layer.trainable = False"
      ],
      "execution_count": null,
      "outputs": [
        {
          "output_type": "stream",
          "name": "stdout",
          "text": [
            "Downloading data from https://storage.googleapis.com/keras-applications/efficientnetb0_notop.h5\n",
            "16711680/16705208 [==============================] - 0s 0us/step\n",
            "16719872/16705208 [==============================] - 0s 0us/step\n"
          ]
        }
      ]
    },
    {
      "cell_type": "code",
      "metadata": {
        "id": "0kMdL2AOup_L"
      },
      "source": [
        "\n",
        "headModel = baseModel.output\n",
        "headModel       = Conv2D(256,(3,3),padding='same',activation='relu')(headModel )\n",
        "headModel       = MaxPool2D(pool_size=(4,4),padding='same')(headModel )\n",
        "headModel = Flatten(name=\"flatten\")(headModel)\n",
        "headModel = Dense(128, activation=\"relu\")(headModel)\n",
        "headModel = Dropout(0.5)(headModel)\n",
        "headModel = Dense(1, activation=\"sigmoid\")(headModel)\n",
        "net1 = Model(inputs=baseModel.input, outputs=headModel)"
      ],
      "execution_count": null,
      "outputs": []
    },
    {
      "cell_type": "code",
      "metadata": {
        "colab": {
          "base_uri": "https://localhost:8080/"
        },
        "id": "UBtB5iiPup_M",
        "outputId": "1e79c37d-d404-42e8-b6df-877b3bc274bd"
      },
      "source": [
        "net1.compile(optimizer='Adam',loss='binary_crossentropy',metrics=['accuracy'])\n",
        "\n",
        "filepath=\"/content/drive/MyDrive/models/saved_models/effiecent.hdf5\"\n",
        "checkpoint = ModelCheckpoint(filepath=filepath, monitor='val_accuracy',  verbose=1, save_best_only=True, mode='auto')\n",
        "\n",
        "net1.fit_generator(train,validation_data=validation,epochs=20,\n",
        "                  steps_per_epoch=train.samples//batch_size,\n",
        "                  validation_steps=validation.samples//batch_size,callbacks=checkpoint)"
      ],
      "execution_count": null,
      "outputs": [
        {
          "output_type": "stream",
          "name": "stderr",
          "text": [
            "/usr/local/lib/python3.7/dist-packages/keras/engine/training.py:1972: UserWarning: `Model.fit_generator` is deprecated and will be removed in a future version. Please use `Model.fit`, which supports generators.\n",
            "  warnings.warn('`Model.fit_generator` is deprecated and '\n"
          ]
        },
        {
          "output_type": "stream",
          "name": "stdout",
          "text": [
            "Epoch 1/20\n",
            "41/91 [============>.................] - ETA: 13:47 - loss: 1.5409 - accuracy: 0.5610"
          ]
        },
        {
          "output_type": "stream",
          "name": "stderr",
          "text": [
            "/usr/local/lib/python3.7/dist-packages/PIL/Image.py:960: UserWarning: Palette images with Transparency expressed in bytes should be converted to RGBA images\n",
            "  \"Palette images with Transparency expressed in bytes should be \"\n"
          ]
        },
        {
          "output_type": "stream",
          "name": "stdout",
          "text": [
            "91/91 [==============================] - 1614s 18s/step - loss: 1.0718 - accuracy: 0.5813 - val_loss: 0.6764 - val_accuracy: 0.6062\n",
            "\n",
            "Epoch 00001: val_accuracy improved from -inf to 0.60625, saving model to /content/drive/MyDrive/models/saved_models/effiecent.hdf5\n"
          ]
        },
        {
          "output_type": "stream",
          "name": "stderr",
          "text": [
            "/usr/local/lib/python3.7/dist-packages/keras/utils/generic_utils.py:497: CustomMaskWarning: Custom mask layers require a config and must override get_config. When loading, the custom mask layer must be passed to the custom_objects argument.\n",
            "  category=CustomMaskWarning)\n"
          ]
        },
        {
          "output_type": "stream",
          "name": "stdout",
          "text": [
            "Epoch 2/20\n",
            "91/91 [==============================] - 140s 2s/step - loss: 0.6902 - accuracy: 0.6093 - val_loss: 0.6870 - val_accuracy: 0.6062\n",
            "\n",
            "Epoch 00002: val_accuracy did not improve from 0.60625\n",
            "Epoch 3/20\n",
            "91/91 [==============================] - 139s 2s/step - loss: 0.6845 - accuracy: 0.6079 - val_loss: 0.6816 - val_accuracy: 0.6125\n",
            "\n",
            "Epoch 00003: val_accuracy improved from 0.60625 to 0.61250, saving model to /content/drive/MyDrive/models/saved_models/effiecent.hdf5\n",
            "Epoch 4/20\n",
            "91/91 [==============================] - 139s 2s/step - loss: 0.6804 - accuracy: 0.6072 - val_loss: 0.6789 - val_accuracy: 0.6062\n",
            "\n",
            "Epoch 00004: val_accuracy did not improve from 0.61250\n",
            "Epoch 5/20\n",
            "91/91 [==============================] - 139s 2s/step - loss: 0.6769 - accuracy: 0.6089 - val_loss: 0.6761 - val_accuracy: 0.6062\n",
            "\n",
            "Epoch 00005: val_accuracy did not improve from 0.61250\n",
            "Epoch 6/20\n",
            "91/91 [==============================] - 139s 2s/step - loss: 0.6748 - accuracy: 0.6082 - val_loss: 0.6735 - val_accuracy: 0.6094\n",
            "\n",
            "Epoch 00006: val_accuracy did not improve from 0.61250\n",
            "Epoch 7/20\n",
            "91/91 [==============================] - 139s 2s/step - loss: 0.6729 - accuracy: 0.6093 - val_loss: 0.6721 - val_accuracy: 0.6094\n",
            "\n",
            "Epoch 00007: val_accuracy did not improve from 0.61250\n",
            "Epoch 8/20\n",
            "91/91 [==============================] - 141s 2s/step - loss: 0.6719 - accuracy: 0.6086 - val_loss: 0.6712 - val_accuracy: 0.6094\n",
            "\n",
            "Epoch 00008: val_accuracy did not improve from 0.61250\n",
            "Epoch 9/20\n",
            "91/91 [==============================] - 141s 2s/step - loss: 0.6709 - accuracy: 0.6089 - val_loss: 0.6705 - val_accuracy: 0.6094\n",
            "\n",
            "Epoch 00009: val_accuracy did not improve from 0.61250\n",
            "Epoch 10/20\n",
            "91/91 [==============================] - 140s 2s/step - loss: 0.6706 - accuracy: 0.6082 - val_loss: 0.6689 - val_accuracy: 0.6125\n",
            "\n",
            "Epoch 00010: val_accuracy did not improve from 0.61250\n",
            "Epoch 11/20\n",
            "91/91 [==============================] - 140s 2s/step - loss: 0.6704 - accuracy: 0.6079 - val_loss: 0.6708 - val_accuracy: 0.6062\n",
            "\n",
            "Epoch 00011: val_accuracy did not improve from 0.61250\n",
            "Epoch 12/20\n",
            "91/91 [==============================] - 140s 2s/step - loss: 0.6702 - accuracy: 0.6079 - val_loss: 0.6719 - val_accuracy: 0.6031\n",
            "\n",
            "Epoch 00012: val_accuracy did not improve from 0.61250\n",
            "Epoch 13/20\n",
            "91/91 [==============================] - 140s 2s/step - loss: 0.6696 - accuracy: 0.6089 - val_loss: 0.6718 - val_accuracy: 0.6031\n",
            "\n",
            "Epoch 00013: val_accuracy did not improve from 0.61250\n",
            "Epoch 14/20\n",
            "91/91 [==============================] - 139s 2s/step - loss: 0.6699 - accuracy: 0.6079 - val_loss: 0.6692 - val_accuracy: 0.6094\n",
            "\n",
            "Epoch 00014: val_accuracy did not improve from 0.61250\n",
            "Epoch 15/20\n",
            "91/91 [==============================] - 138s 2s/step - loss: 0.6698 - accuracy: 0.6079 - val_loss: 0.6692 - val_accuracy: 0.6094\n",
            "\n",
            "Epoch 00015: val_accuracy did not improve from 0.61250\n",
            "Epoch 16/20\n",
            "91/91 [==============================] - 140s 2s/step - loss: 0.6698 - accuracy: 0.6079 - val_loss: 0.6717 - val_accuracy: 0.6031\n",
            "\n",
            "Epoch 00016: val_accuracy did not improve from 0.61250\n",
            "Epoch 17/20\n",
            "91/91 [==============================] - 140s 2s/step - loss: 0.8375 - accuracy: 0.6082 - val_loss: 0.6677 - val_accuracy: 0.6125\n",
            "\n",
            "Epoch 00017: val_accuracy did not improve from 0.61250\n",
            "Epoch 18/20\n",
            "91/91 [==============================] - 141s 2s/step - loss: 0.7595 - accuracy: 0.6058 - val_loss: 0.6691 - val_accuracy: 0.6094\n",
            "\n",
            "Epoch 00018: val_accuracy did not improve from 0.61250\n",
            "Epoch 19/20\n",
            "91/91 [==============================] - 141s 2s/step - loss: 0.6697 - accuracy: 0.6079 - val_loss: 0.6704 - val_accuracy: 0.6062\n",
            "\n",
            "Epoch 00019: val_accuracy did not improve from 0.61250\n",
            "Epoch 20/20\n",
            "91/91 [==============================] - 141s 2s/step - loss: 0.6694 - accuracy: 0.6086 - val_loss: 0.6691 - val_accuracy: 0.6094\n",
            "\n",
            "Epoch 00020: val_accuracy did not improve from 0.61250\n"
          ]
        },
        {
          "output_type": "execute_result",
          "data": {
            "text/plain": [
              "<keras.callbacks.History at 0x7f29e01c3bd0>"
            ]
          },
          "metadata": {},
          "execution_count": 12
        }
      ]
    },
    {
      "cell_type": "markdown",
      "metadata": {
        "id": "AJJtw56wxWCi"
      },
      "source": [
        "#vggnet16"
      ]
    },
    {
      "cell_type": "code",
      "metadata": {
        "id": "rGDuOm7f9-H7"
      },
      "source": [
        "baseModel = tf.keras.applications.VGG16(weights=\"imagenet\", include_top=False,input_tensor=Input(shape=(224, 224, 3)))\n",
        "\n",
        "for layer in baseModel.layers:\n",
        "    layer.trainable = False"
      ],
      "execution_count": null,
      "outputs": []
    },
    {
      "cell_type": "code",
      "metadata": {
        "id": "jHQfjvWD9-H-"
      },
      "source": [
        "\n",
        "headModel = baseModel.output\n",
        "headModel       = Conv2D(256,(4,4),padding='same',activation='relu')(headModel )\n",
        "headModel       = MaxPool2D(pool_size=(6,6))(headModel )\n",
        "headModel = Flatten(name=\"flatten\")(headModel)\n",
        "headModel = Dense(128, activation=\"relu\")(headModel)\n",
        "headModel = Dropout(0.5)(headModel)\n",
        "headModel = Dense(1, activation=\"sigmoid\")(headModel)\n",
        "net3 = Model(inputs=baseModel.input, outputs=headModel)"
      ],
      "execution_count": null,
      "outputs": []
    },
    {
      "cell_type": "code",
      "metadata": {
        "colab": {
          "base_uri": "https://localhost:8080/"
        },
        "id": "Nf2XRXaMUQR6",
        "outputId": "e9672663-34cf-448d-8a49-46365b384270"
      },
      "source": [
        "net3.fit_generator(train,validation_data=validation,epochs=10,\n",
        "                  steps_per_epoch=train.samples//batch_size,\n",
        "                  validation_steps=validation.samples//batch_size,callbacks=checkpoint)"
      ],
      "execution_count": null,
      "outputs": [
        {
          "output_type": "stream",
          "name": "stderr",
          "text": [
            "/usr/local/lib/python3.7/dist-packages/keras/engine/training.py:1972: UserWarning: `Model.fit_generator` is deprecated and will be removed in a future version. Please use `Model.fit`, which supports generators.\n",
            "  warnings.warn('`Model.fit_generator` is deprecated and '\n"
          ]
        },
        {
          "output_type": "stream",
          "name": "stdout",
          "text": [
            "Epoch 1/10\n",
            "59/91 [==================>...........] - ETA: 47s - loss: 0.1803 - accuracy: 0.9208"
          ]
        },
        {
          "output_type": "stream",
          "name": "stderr",
          "text": [
            "/usr/local/lib/python3.7/dist-packages/PIL/Image.py:960: UserWarning: Palette images with Transparency expressed in bytes should be converted to RGBA images\n",
            "  \"Palette images with Transparency expressed in bytes should be \"\n"
          ]
        },
        {
          "output_type": "stream",
          "name": "stdout",
          "text": [
            "91/91 [==============================] - 147s 2s/step - loss: 0.1771 - accuracy: 0.9274 - val_loss: 1.0028 - val_accuracy: 0.7500\n",
            "\n",
            "Epoch 00001: val_accuracy did not improve from 0.78125\n",
            "Epoch 2/10\n",
            "91/91 [==============================] - 147s 2s/step - loss: 0.1578 - accuracy: 0.9346 - val_loss: 0.9315 - val_accuracy: 0.7437\n",
            "\n",
            "Epoch 00002: val_accuracy did not improve from 0.78125\n",
            "Epoch 3/10\n",
            "91/91 [==============================] - 146s 2s/step - loss: 0.1857 - accuracy: 0.9194 - val_loss: 0.9430 - val_accuracy: 0.7094\n",
            "\n",
            "Epoch 00003: val_accuracy did not improve from 0.78125\n",
            "Epoch 4/10\n",
            "91/91 [==============================] - 146s 2s/step - loss: 0.1823 - accuracy: 0.9312 - val_loss: 0.6514 - val_accuracy: 0.7844\n",
            "\n",
            "Epoch 00004: val_accuracy improved from 0.78125 to 0.78438, saving model to /content/drive/MyDrive/models/saved_models/vggnet16_img1.hdf5\n",
            "Epoch 5/10\n",
            "91/91 [==============================] - 147s 2s/step - loss: 0.1606 - accuracy: 0.9357 - val_loss: 1.2027 - val_accuracy: 0.7094\n",
            "\n",
            "Epoch 00005: val_accuracy did not improve from 0.78438\n",
            "Epoch 6/10\n",
            "91/91 [==============================] - 146s 2s/step - loss: 0.1456 - accuracy: 0.9416 - val_loss: 0.6853 - val_accuracy: 0.7750\n",
            "\n",
            "Epoch 00006: val_accuracy did not improve from 0.78438\n",
            "Epoch 7/10\n",
            "91/91 [==============================] - 147s 2s/step - loss: 0.1499 - accuracy: 0.9419 - val_loss: 0.6940 - val_accuracy: 0.7344\n",
            "\n",
            "Epoch 00007: val_accuracy did not improve from 0.78438\n",
            "Epoch 8/10\n",
            "91/91 [==============================] - 146s 2s/step - loss: 0.1717 - accuracy: 0.9295 - val_loss: 1.0122 - val_accuracy: 0.7188\n",
            "\n",
            "Epoch 00008: val_accuracy did not improve from 0.78438\n",
            "Epoch 9/10\n",
            "91/91 [==============================] - 147s 2s/step - loss: 0.1423 - accuracy: 0.9450 - val_loss: 0.8320 - val_accuracy: 0.7656\n",
            "\n",
            "Epoch 00009: val_accuracy did not improve from 0.78438\n",
            "Epoch 10/10\n",
            "91/91 [==============================] - 146s 2s/step - loss: 0.1499 - accuracy: 0.9474 - val_loss: 1.1884 - val_accuracy: 0.7281\n",
            "\n",
            "Epoch 00010: val_accuracy did not improve from 0.78438\n"
          ]
        },
        {
          "output_type": "execute_result",
          "data": {
            "text/plain": [
              "<keras.callbacks.History at 0x7f29431c0450>"
            ]
          },
          "metadata": {},
          "execution_count": 20
        }
      ]
    },
    {
      "cell_type": "markdown",
      "metadata": {
        "id": "scPbLE5Fus_n"
      },
      "source": [
        "#VGG19"
      ]
    },
    {
      "cell_type": "code",
      "metadata": {
        "id": "2pMfFnnvutvS"
      },
      "source": [
        ""
      ],
      "execution_count": null,
      "outputs": []
    },
    {
      "cell_type": "code",
      "metadata": {
        "colab": {
          "base_uri": "https://localhost:8080/"
        },
        "id": "cVFOVKdmLStn",
        "outputId": "aca746c0-fb15-416b-d899-8c8a7be4fd7a"
      },
      "source": [
        "baseModel = tf.keras.applications.VGG19(weights=\"imagenet\", include_top=False,input_tensor=Input(shape=(224, 224, 3)))\n",
        "\n",
        "for layer in baseModel.layers:\n",
        "    layer.trainable = False"
      ],
      "execution_count": null,
      "outputs": [
        {
          "output_type": "stream",
          "name": "stdout",
          "text": [
            "Downloading data from https://storage.googleapis.com/tensorflow/keras-applications/vgg19/vgg19_weights_tf_dim_ordering_tf_kernels_notop.h5\n",
            "80142336/80134624 [==============================] - 1s 0us/step\n",
            "80150528/80134624 [==============================] - 1s 0us/step\n"
          ]
        }
      ]
    },
    {
      "cell_type": "code",
      "metadata": {
        "id": "4nE0wVoULSto"
      },
      "source": [
        "\n",
        "headModel = baseModel.output\n",
        "headModel       = Conv2D(256,(4,4),padding='same',activation='relu')(headModel )\n",
        "headModel       = MaxPool2D(pool_size=(6,6))(headModel )\n",
        "headModel = Flatten(name=\"flatten\")(headModel)\n",
        "headModel = Dense(128, activation=\"relu\")(headModel)\n",
        "headModel = Dropout(0.5)(headModel)\n",
        "headModel = Dense(1, activation=\"sigmoid\")(headModel)\n",
        "net4 = Model(inputs=baseModel.input, outputs=headModel)"
      ],
      "execution_count": null,
      "outputs": []
    },
    {
      "cell_type": "code",
      "metadata": {
        "colab": {
          "base_uri": "https://localhost:8080/"
        },
        "id": "JxU434R0LStq",
        "outputId": "82181633-4a51-4953-e450-9bd0fcb5635c"
      },
      "source": [
        "net4.compile(optimizer='Adam',loss='binary_crossentropy',metrics=['accuracy'])\n",
        "\n",
        "filepath=\"/content/drive/MyDrive/models/saved_models/vggnet19_img.hdf5\"\n",
        "checkpoint = ModelCheckpoint(filepath=filepath, monitor='val_accuracy',  verbose=1, save_best_only=True, mode='auto')\n",
        "\n",
        "net4.fit_generator(train,validation_data=validation,epochs=20,\n",
        "                  steps_per_epoch=train.samples//batch_size,\n",
        "                  validation_steps=validation.samples//batch_size,callbacks=checkpoint)"
      ],
      "execution_count": null,
      "outputs": [
        {
          "output_type": "stream",
          "name": "stderr",
          "text": [
            "/usr/local/lib/python3.7/dist-packages/keras/engine/training.py:1972: UserWarning: `Model.fit_generator` is deprecated and will be removed in a future version. Please use `Model.fit`, which supports generators.\n",
            "  warnings.warn('`Model.fit_generator` is deprecated and '\n"
          ]
        },
        {
          "output_type": "stream",
          "name": "stdout",
          "text": [
            "Epoch 1/20\n",
            "68/91 [=====================>........] - ETA: 35s - loss: 0.7241 - accuracy: 0.6071"
          ]
        },
        {
          "output_type": "stream",
          "name": "stderr",
          "text": [
            "/usr/local/lib/python3.7/dist-packages/PIL/Image.py:960: UserWarning: Palette images with Transparency expressed in bytes should be converted to RGBA images\n",
            "  \"Palette images with Transparency expressed in bytes should be \"\n"
          ]
        },
        {
          "output_type": "stream",
          "name": "stdout",
          "text": [
            "91/91 [==============================] - 151s 2s/step - loss: 0.6870 - accuracy: 0.6366 - val_loss: 0.6680 - val_accuracy: 0.6812\n",
            "\n",
            "Epoch 00001: val_accuracy improved from -inf to 0.68125, saving model to /content/drive/MyDrive/models/saved_models/vggnet19_img.hdf5\n",
            "Epoch 2/20\n",
            "91/91 [==============================] - 150s 2s/step - loss: 0.5260 - accuracy: 0.7552 - val_loss: 0.5793 - val_accuracy: 0.7031\n",
            "\n",
            "Epoch 00002: val_accuracy improved from 0.68125 to 0.70312, saving model to /content/drive/MyDrive/models/saved_models/vggnet19_img.hdf5\n",
            "Epoch 3/20\n",
            "91/91 [==============================] - 150s 2s/step - loss: 0.4847 - accuracy: 0.7857 - val_loss: 0.5548 - val_accuracy: 0.7000\n",
            "\n",
            "Epoch 00003: val_accuracy did not improve from 0.70312\n",
            "Epoch 4/20\n",
            "91/91 [==============================] - 150s 2s/step - loss: 0.4624 - accuracy: 0.8022 - val_loss: 0.5851 - val_accuracy: 0.7031\n",
            "\n",
            "Epoch 00004: val_accuracy did not improve from 0.70312\n",
            "Epoch 5/20\n",
            "91/91 [==============================] - 150s 2s/step - loss: 0.4397 - accuracy: 0.8143 - val_loss: 0.7282 - val_accuracy: 0.6844\n",
            "\n",
            "Epoch 00005: val_accuracy did not improve from 0.70312\n",
            "Epoch 6/20\n",
            "91/91 [==============================] - 148s 2s/step - loss: 0.4341 - accuracy: 0.8043 - val_loss: 0.5464 - val_accuracy: 0.7125\n",
            "\n",
            "Epoch 00006: val_accuracy improved from 0.70312 to 0.71250, saving model to /content/drive/MyDrive/models/saved_models/vggnet19_img.hdf5\n",
            "Epoch 7/20\n",
            "91/91 [==============================] - 149s 2s/step - loss: 0.4147 - accuracy: 0.8178 - val_loss: 0.6147 - val_accuracy: 0.6938\n",
            "\n",
            "Epoch 00007: val_accuracy did not improve from 0.71250\n",
            "Epoch 8/20\n",
            "91/91 [==============================] - 149s 2s/step - loss: 0.3999 - accuracy: 0.8254 - val_loss: 0.5936 - val_accuracy: 0.7188\n",
            "\n",
            "Epoch 00008: val_accuracy improved from 0.71250 to 0.71875, saving model to /content/drive/MyDrive/models/saved_models/vggnet19_img.hdf5\n",
            "Epoch 9/20\n",
            "91/91 [==============================] - 148s 2s/step - loss: 0.3913 - accuracy: 0.8378 - val_loss: 0.5688 - val_accuracy: 0.7469\n",
            "\n",
            "Epoch 00009: val_accuracy improved from 0.71875 to 0.74687, saving model to /content/drive/MyDrive/models/saved_models/vggnet19_img.hdf5\n",
            "Epoch 10/20\n",
            "91/91 [==============================] - 149s 2s/step - loss: 0.3958 - accuracy: 0.8344 - val_loss: 0.5850 - val_accuracy: 0.7063\n",
            "\n",
            "Epoch 00010: val_accuracy did not improve from 0.74687\n",
            "Epoch 11/20\n",
            "91/91 [==============================] - 149s 2s/step - loss: 0.3832 - accuracy: 0.8361 - val_loss: 0.5996 - val_accuracy: 0.7375\n",
            "\n",
            "Epoch 00011: val_accuracy did not improve from 0.74687\n",
            "Epoch 12/20\n",
            "91/91 [==============================] - 150s 2s/step - loss: 0.3656 - accuracy: 0.8589 - val_loss: 0.5659 - val_accuracy: 0.7219\n",
            "\n",
            "Epoch 00012: val_accuracy did not improve from 0.74687\n",
            "Epoch 13/20\n",
            "91/91 [==============================] - 147s 2s/step - loss: 0.3449 - accuracy: 0.8603 - val_loss: 0.6954 - val_accuracy: 0.7312\n",
            "\n",
            "Epoch 00013: val_accuracy did not improve from 0.74687\n",
            "Epoch 14/20\n",
            "91/91 [==============================] - 146s 2s/step - loss: 0.3644 - accuracy: 0.8492 - val_loss: 0.5769 - val_accuracy: 0.7406\n",
            "\n",
            "Epoch 00014: val_accuracy did not improve from 0.74687\n",
            "Epoch 15/20\n",
            "91/91 [==============================] - 147s 2s/step - loss: 0.3541 - accuracy: 0.8579 - val_loss: 0.6020 - val_accuracy: 0.7312\n",
            "\n",
            "Epoch 00015: val_accuracy did not improve from 0.74687\n",
            "Epoch 16/20\n",
            "91/91 [==============================] - 149s 2s/step - loss: 0.3291 - accuracy: 0.8693 - val_loss: 0.8235 - val_accuracy: 0.6844\n",
            "\n",
            "Epoch 00016: val_accuracy did not improve from 0.74687\n",
            "Epoch 17/20\n",
            "91/91 [==============================] - 148s 2s/step - loss: 0.3054 - accuracy: 0.8776 - val_loss: 0.7137 - val_accuracy: 0.7281\n",
            "\n",
            "Epoch 00017: val_accuracy did not improve from 0.74687\n",
            "Epoch 18/20\n",
            "91/91 [==============================] - 148s 2s/step - loss: 0.3089 - accuracy: 0.8710 - val_loss: 0.5965 - val_accuracy: 0.7406\n",
            "\n",
            "Epoch 00018: val_accuracy did not improve from 0.74687\n",
            "Epoch 19/20\n",
            "91/91 [==============================] - 147s 2s/step - loss: 0.3270 - accuracy: 0.8603 - val_loss: 0.6236 - val_accuracy: 0.7344\n",
            "\n",
            "Epoch 00019: val_accuracy did not improve from 0.74687\n",
            "Epoch 20/20\n",
            "91/91 [==============================] - 147s 2s/step - loss: 0.3300 - accuracy: 0.8627 - val_loss: 0.5899 - val_accuracy: 0.7500\n",
            "\n",
            "Epoch 00020: val_accuracy improved from 0.74687 to 0.75000, saving model to /content/drive/MyDrive/models/saved_models/vggnet19_img.hdf5\n"
          ]
        },
        {
          "output_type": "execute_result",
          "data": {
            "text/plain": [
              "<keras.callbacks.History at 0x7f2942e5a8d0>"
            ]
          },
          "metadata": {},
          "execution_count": 23
        }
      ]
    },
    {
      "cell_type": "markdown",
      "metadata": {
        "id": "8JBbjxH-vGWH"
      },
      "source": [
        "#"
      ]
    },
    {
      "cell_type": "code",
      "metadata": {
        "colab": {
          "base_uri": "https://localhost:8080/"
        },
        "id": "3PhMvAjzvg8d",
        "outputId": "063e5b96-0565-4a91-b1d4-ef933951a430"
      },
      "source": [
        "from prettytable import PrettyTable \n",
        "  \n",
        "# Specify the Column Names while initializing the Table \n",
        "myTable = PrettyTable([\"pretrained model\", \" validation accuracy \",\"size\"]) \n",
        "  \n",
        "# Add rows \n",
        "myTable.add_row([\"simplecnn\", \"0.7406\",\"296mb\"]) \n",
        "myTable.add_row([\"Mobilenetv2\", \"0.7781\",\"744mb\"]) \n",
        "myTable.add_row([\"vggnet16\", \"0.7843\",\"80mb\"]) \n",
        "myTable.add_row([\"vggnet19\", \"0.7500\",\"265mb\"]) \n",
        "myTable.add_row([\"nasnetlarge\", \"0.7406\",\"80.74mb\"]) \n",
        "myTable.add_row([\"efficientnetb0\", \"0.6125\",\"51mb\"]) \n",
        "\n",
        "\n",
        "print(myTable)\n"
      ],
      "execution_count": 1,
      "outputs": [
        {
          "output_type": "stream",
          "name": "stdout",
          "text": [
            "+------------------+-----------------------+---------+\n",
            "| pretrained model |  validation accuracy  |   size  |\n",
            "+------------------+-----------------------+---------+\n",
            "|    simplecnn     |         0.7406        |  296mb  |\n",
            "|   Mobilenetv2    |         0.7781        |  744mb  |\n",
            "|     vggnet16     |         0.7843        |   80mb  |\n",
            "|     vggnet19     |         0.7500        |  265mb  |\n",
            "|   nasnetlarge    |         0.7406        | 80.74mb |\n",
            "|  efficientnetb0  |         0.6125        |   51mb  |\n",
            "+------------------+-----------------------+---------+\n"
          ]
        }
      ]
    },
    {
      "cell_type": "markdown",
      "metadata": {
        "id": "1vf2aszrv0pR"
      },
      "source": [
        "#checking on test data"
      ]
    },
    {
      "cell_type": "code",
      "metadata": {
        "id": "i6CfrBEdv3EL"
      },
      "source": [
        ""
      ],
      "execution_count": null,
      "outputs": []
    },
    {
      "cell_type": "markdown",
      "metadata": {
        "id": "fRdfLXbKVgxw"
      },
      "source": [
        "#simple cnn"
      ]
    },
    {
      "cell_type": "code",
      "metadata": {
        "colab": {
          "base_uri": "https://localhost:8080/"
        },
        "id": "iegwnKdOW-RL",
        "outputId": "535db1e5-d7fc-43a1-b763-a9426fbd163d"
      },
      "source": [
        "simple_cnn=load_model('/content/drive/MyDrive/current_working_models/simple_cnn_new.hdf5')\n",
        "\n",
        "y_pred=y_prediction(all_paths,simple_cnn)\n",
        "score1=accuracy_score(labels,y_pred)\n",
        "print('accuracy of simple cnn',score1)"
      ],
      "execution_count": null,
      "outputs": [
        {
          "output_type": "stream",
          "name": "stdout",
          "text": [
            "accuracy of simple cnn 0.6363636363636364\n"
          ]
        }
      ]
    },
    {
      "cell_type": "markdown",
      "metadata": {
        "id": "yegsHkicZajm"
      },
      "source": [
        "#VGGNET16"
      ]
    },
    {
      "cell_type": "code",
      "metadata": {
        "colab": {
          "base_uri": "https://localhost:8080/"
        },
        "id": "nFHU4u4GaH5w",
        "outputId": "9dea68c8-8fde-45cd-c917-5f81c95081f2"
      },
      "source": [
        "vgg16=load_model('/content/drive/MyDrive/current_working_models/vggnet16_img1.hdf5')\n",
        "\n",
        "y_pred=y_prediction(all_paths,vgg16)\n",
        "score2=accuracy_score(labels,y_pred)\n",
        "print('accuracy of vggnet16',score2)"
      ],
      "execution_count": null,
      "outputs": [
        {
          "output_type": "stream",
          "name": "stdout",
          "text": [
            "accuracy of vggnet16 0.9090909090909091\n"
          ]
        }
      ]
    },
    {
      "cell_type": "markdown",
      "metadata": {
        "id": "qG52G-_TZ7j6"
      },
      "source": [
        "#*VGGNET19*"
      ]
    },
    {
      "cell_type": "code",
      "metadata": {
        "colab": {
          "base_uri": "https://localhost:8080/"
        },
        "id": "IwgbNYBwal8o",
        "outputId": "e042aadd-fc3c-459a-825e-7dc97585e853"
      },
      "source": [
        "vgg19=load_model('/content/drive/MyDrive/current_working_models/vggnet19_img.hdf5')\n",
        "\n",
        "y_pred=y_prediction(all_paths,vgg19)\n",
        "score3=accuracy_score(labels,y_pred)\n",
        "print('accuracy of VGGNET19',score3)"
      ],
      "execution_count": null,
      "outputs": [
        {
          "output_type": "stream",
          "name": "stdout",
          "text": [
            "accuracy of VGGNET19 0.7727272727272727\n"
          ]
        }
      ]
    },
    {
      "cell_type": "markdown",
      "metadata": {
        "id": "ouGUw6rraxKz"
      },
      "source": [
        "#NASNET"
      ]
    },
    {
      "cell_type": "code",
      "metadata": {
        "colab": {
          "base_uri": "https://localhost:8080/"
        },
        "id": "zQjfkZcxasxR",
        "outputId": "d2cc2eaf-fe2f-469f-bf3f-39d9c6f9c17e"
      },
      "source": [
        "naslarge=load_model('/content/drive/MyDrive/current_working_models/net_new_current.hdf5')\n",
        "\n",
        "y_pred=y_prediction(all_paths,naslarge)\n",
        "score4=accuracy_score(labels,y_pred)\n",
        "print('accuracy of Nasnet Large',score4)"
      ],
      "execution_count": null,
      "outputs": [
        {
          "output_type": "stream",
          "name": "stdout",
          "text": [
            "accuracy of Nasnet Large 0.7727272727272727\n"
          ]
        }
      ]
    },
    {
      "cell_type": "markdown",
      "metadata": {
        "id": "C7UhrvtccV_3"
      },
      "source": [
        "#MOBILENET"
      ]
    },
    {
      "cell_type": "code",
      "metadata": {
        "colab": {
          "base_uri": "https://localhost:8080/"
        },
        "id": "il3w4asTcY7m",
        "outputId": "5b494faf-56f7-4585-8d34-b4390c04a62c"
      },
      "source": [
        "mobilenet=load_model('/content/drive/MyDrive/current_working_models/mobilenet_new_current.hdf5')\n",
        "\n",
        "y_pred=y_prediction(all_paths,mobilenet)\n",
        "score5=accuracy_score(labels,y_pred)\n",
        "print('accuracy of Mobilenet',score5)"
      ],
      "execution_count": null,
      "outputs": [
        {
          "output_type": "stream",
          "name": "stdout",
          "text": [
            "accuracy of Mobilenet 0.7272727272727273\n"
          ]
        }
      ]
    },
    {
      "cell_type": "markdown",
      "metadata": {
        "id": "R0t3a0b9cl7m"
      },
      "source": [
        "#EFFIECENTNET"
      ]
    },
    {
      "cell_type": "code",
      "metadata": {
        "colab": {
          "base_uri": "https://localhost:8080/"
        },
        "id": "zCUUPjyUcw7r",
        "outputId": "2fa67cad-f99e-45b8-c3e1-9e26d8aa147d"
      },
      "source": [
        "efficent=load_model('/content/drive/MyDrive/current_working_models/effiecent.hdf5')\n",
        "\n",
        "y_pred=y_prediction(all_paths,efficent)\n",
        "score6=accuracy_score(labels,y_pred)\n",
        "print('accuracy of EfficientNet',score6)"
      ],
      "execution_count": null,
      "outputs": [
        {
          "output_type": "stream",
          "name": "stdout",
          "text": [
            "accuracy of EfficientNet 0.5454545454545454\n"
          ]
        }
      ]
    },
    {
      "cell_type": "markdown",
      "metadata": {
        "id": "lUscLjp6esY5"
      },
      "source": [
        "#RESNET"
      ]
    },
    {
      "cell_type": "code",
      "metadata": {
        "colab": {
          "base_uri": "https://localhost:8080/"
        },
        "id": "14MyQRh63hgC",
        "outputId": "15d6070f-7ae8-4b5a-96f7-28e8f4f1e0ad"
      },
      "source": [
        "resnet=load_model('/content/drive/MyDrive/current_working_models/resnetv2.hdf5')\n",
        "\n",
        "y_pred=y_prediction(all_paths,resnet)\n",
        "score7=accuracy_score(labels,y_pred)\n",
        "print('accuracy of RESNET',score7)"
      ],
      "execution_count": null,
      "outputs": [
        {
          "output_type": "stream",
          "name": "stdout",
          "text": [
            "accuracy of RESNET 0.8181818181818182\n"
          ]
        }
      ]
    },
    {
      "cell_type": "markdown",
      "metadata": {
        "id": "58onuJ2awC40"
      },
      "source": [
        "#therefore we got .90 accuaracy on gtest data for VGGNET16"
      ]
    }
  ]
}